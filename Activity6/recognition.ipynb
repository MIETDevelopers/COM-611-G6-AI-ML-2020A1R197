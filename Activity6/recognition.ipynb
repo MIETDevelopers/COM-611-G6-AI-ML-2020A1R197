{
 "cells": [
  {
   "cell_type": "code",
   "execution_count": 1,
   "metadata": {},
   "outputs": [],
   "source": [
    "import face_recognition\n",
    "import cv2\n",
    "import numpy as np\n",
    "import glob\n",
    "import pickle"
   ]
  },
  {
   "cell_type": "code",
   "execution_count": 2,
   "metadata": {},
   "outputs": [],
   "source": [
    "f=open(\"ref_name.pkl\",\"rb\")\n",
    "ref_dictt=pickle.load(f)        \n",
    "f.close()\n",
    "f=open(\"ref_embed.pkl\",\"rb\")\n",
    "embed_dictt=pickle.load(f)      \n",
    "f.close()"
   ]
  },
  {
   "cell_type": "code",
   "execution_count": 3,
   "metadata": {},
   "outputs": [],
   "source": [
    "known_face_encodings = []  \n",
    "known_face_names = []  \n",
    "for ref_id , embed_list in embed_dictt.items():\n",
    "    for my_embed in embed_list:\n",
    "        known_face_encodings +=[my_embed]\n",
    "        known_face_names += [ref_id]\n"
   ]
  },
  {
   "cell_type": "code",
   "execution_count": 4,
   "metadata": {},
   "outputs": [
    {
     "ename": "TypeError",
     "evalue": "compute_face_descriptor(): incompatible function arguments. The following argument types are supported:\n    1. (self: _dlib_pybind11.face_recognition_model_v1, img: numpy.ndarray[(rows,cols,3),numpy.uint8], face: _dlib_pybind11.full_object_detection, num_jitters: int = 0, padding: float = 0.25) -> _dlib_pybind11.vector\n    2. (self: _dlib_pybind11.face_recognition_model_v1, img: numpy.ndarray[(rows,cols,3),numpy.uint8], num_jitters: int = 0) -> _dlib_pybind11.vector\n    3. (self: _dlib_pybind11.face_recognition_model_v1, img: numpy.ndarray[(rows,cols,3),numpy.uint8], faces: _dlib_pybind11.full_object_detections, num_jitters: int = 0, padding: float = 0.25) -> _dlib_pybind11.vectors\n    4. (self: _dlib_pybind11.face_recognition_model_v1, batch_img: List[numpy.ndarray[(rows,cols,3),numpy.uint8]], batch_faces: List[_dlib_pybind11.full_object_detections], num_jitters: int = 0, padding: float = 0.25) -> _dlib_pybind11.vectorss\n    5. (self: _dlib_pybind11.face_recognition_model_v1, batch_img: List[numpy.ndarray[(rows,cols,3),numpy.uint8]], num_jitters: int = 0) -> _dlib_pybind11.vectors\n\nInvoked with: <_dlib_pybind11.face_recognition_model_v1 object at 0x114865bf0>, array([[[162, 160, 156],\n        [157, 156, 151],\n        [159, 157, 152],\n        ...,\n        [148, 144, 140],\n        [149, 145, 141],\n        [147, 144, 137]],\n\n       [[161, 159, 155],\n        [161, 160, 155],\n        [162, 159, 155],\n        ...,\n        [151, 147, 143],\n        [148, 144, 140],\n        [149, 145, 140]],\n\n       [[160, 159, 154],\n        [161, 159, 155],\n        [165, 161, 158],\n        ...,\n        [148, 144, 140],\n        [153, 149, 145],\n        [148, 145, 141]],\n\n       ...,\n\n       [[106,  68,  40],\n        [106,  68,  38],\n        [105,  67,  37],\n        ...,\n        [117, 117, 116],\n        [118, 118, 118],\n        [116, 117, 116]],\n\n       [[104,  65,  37],\n        [101,  60,  32],\n        [107,  64,  36],\n        ...,\n        [115, 114, 114],\n        [119, 119, 119],\n        [115, 116, 115]],\n\n       [[109,  64,  37],\n        [112,  63,  39],\n        [113,  58,  36],\n        ...,\n        [118, 116, 114],\n        [114, 114, 114],\n        [113, 113, 111]]], dtype=uint8), <_dlib_pybind11.full_object_detection object at 0x1143d98f0>, 1",
     "output_type": "error",
     "traceback": [
      "\u001b[0;31m---------------------------------------------------------------------------\u001b[0m",
      "\u001b[0;31mTypeError\u001b[0m                                 Traceback (most recent call last)",
      "\u001b[1;32m/Users/himanish/Desktop/jupyter/Activity6/recognition.ipynb Cell 4\u001b[0m in \u001b[0;36m<module>\u001b[0;34m\u001b[0m\n\u001b[1;32m     <a href='vscode-notebook-cell:/Users/himanish/Desktop/jupyter/Activity6/recognition.ipynb#W3sZmlsZQ%3D%3D?line=10'>11</a>\u001b[0m \u001b[39mif\u001b[39;00m process_this_frame:\n\u001b[1;32m     <a href='vscode-notebook-cell:/Users/himanish/Desktop/jupyter/Activity6/recognition.ipynb#W3sZmlsZQ%3D%3D?line=11'>12</a>\u001b[0m     face_locations \u001b[39m=\u001b[39m face_recognition\u001b[39m.\u001b[39mface_locations(rgb_small_frame)\n\u001b[0;32m---> <a href='vscode-notebook-cell:/Users/himanish/Desktop/jupyter/Activity6/recognition.ipynb#W3sZmlsZQ%3D%3D?line=12'>13</a>\u001b[0m     face_encodings \u001b[39m=\u001b[39m face_recognition\u001b[39m.\u001b[39;49mface_encodings(rgb_small_frame, face_locations)\n\u001b[1;32m     <a href='vscode-notebook-cell:/Users/himanish/Desktop/jupyter/Activity6/recognition.ipynb#W3sZmlsZQ%3D%3D?line=13'>14</a>\u001b[0m     face_names \u001b[39m=\u001b[39m []\n\u001b[1;32m     <a href='vscode-notebook-cell:/Users/himanish/Desktop/jupyter/Activity6/recognition.ipynb#W3sZmlsZQ%3D%3D?line=14'>15</a>\u001b[0m     \u001b[39mfor\u001b[39;00m face_encoding \u001b[39min\u001b[39;00m face_encodings:\n",
      "File \u001b[0;32m/Library/Frameworks/Python.framework/Versions/3.10/lib/python3.10/site-packages/face_recognition/api.py:214\u001b[0m, in \u001b[0;36mface_encodings\u001b[0;34m(face_image, known_face_locations, num_jitters, model)\u001b[0m\n\u001b[1;32m    204\u001b[0m \u001b[39m\"\"\"\u001b[39;00m\n\u001b[1;32m    205\u001b[0m \u001b[39mGiven an image, return the 128-dimension face encoding for each face in the image.\u001b[39;00m\n\u001b[1;32m    206\u001b[0m \n\u001b[0;32m   (...)\u001b[0m\n\u001b[1;32m    211\u001b[0m \u001b[39m:return: A list of 128-dimensional face encodings (one for each face in the image)\u001b[39;00m\n\u001b[1;32m    212\u001b[0m \u001b[39m\"\"\"\u001b[39;00m\n\u001b[1;32m    213\u001b[0m raw_landmarks \u001b[39m=\u001b[39m _raw_face_landmarks(face_image, known_face_locations, model)\n\u001b[0;32m--> 214\u001b[0m \u001b[39mreturn\u001b[39;00m [np\u001b[39m.\u001b[39marray(face_encoder\u001b[39m.\u001b[39mcompute_face_descriptor(face_image, raw_landmark_set, num_jitters)) \u001b[39mfor\u001b[39;00m raw_landmark_set \u001b[39min\u001b[39;00m raw_landmarks]\n",
      "File \u001b[0;32m/Library/Frameworks/Python.framework/Versions/3.10/lib/python3.10/site-packages/face_recognition/api.py:214\u001b[0m, in \u001b[0;36m<listcomp>\u001b[0;34m(.0)\u001b[0m\n\u001b[1;32m    204\u001b[0m \u001b[39m\"\"\"\u001b[39;00m\n\u001b[1;32m    205\u001b[0m \u001b[39mGiven an image, return the 128-dimension face encoding for each face in the image.\u001b[39;00m\n\u001b[1;32m    206\u001b[0m \n\u001b[0;32m   (...)\u001b[0m\n\u001b[1;32m    211\u001b[0m \u001b[39m:return: A list of 128-dimensional face encodings (one for each face in the image)\u001b[39;00m\n\u001b[1;32m    212\u001b[0m \u001b[39m\"\"\"\u001b[39;00m\n\u001b[1;32m    213\u001b[0m raw_landmarks \u001b[39m=\u001b[39m _raw_face_landmarks(face_image, known_face_locations, model)\n\u001b[0;32m--> 214\u001b[0m \u001b[39mreturn\u001b[39;00m [np\u001b[39m.\u001b[39marray(face_encoder\u001b[39m.\u001b[39;49mcompute_face_descriptor(face_image, raw_landmark_set, num_jitters)) \u001b[39mfor\u001b[39;00m raw_landmark_set \u001b[39min\u001b[39;00m raw_landmarks]\n",
      "\u001b[0;31mTypeError\u001b[0m: compute_face_descriptor(): incompatible function arguments. The following argument types are supported:\n    1. (self: _dlib_pybind11.face_recognition_model_v1, img: numpy.ndarray[(rows,cols,3),numpy.uint8], face: _dlib_pybind11.full_object_detection, num_jitters: int = 0, padding: float = 0.25) -> _dlib_pybind11.vector\n    2. (self: _dlib_pybind11.face_recognition_model_v1, img: numpy.ndarray[(rows,cols,3),numpy.uint8], num_jitters: int = 0) -> _dlib_pybind11.vector\n    3. (self: _dlib_pybind11.face_recognition_model_v1, img: numpy.ndarray[(rows,cols,3),numpy.uint8], faces: _dlib_pybind11.full_object_detections, num_jitters: int = 0, padding: float = 0.25) -> _dlib_pybind11.vectors\n    4. (self: _dlib_pybind11.face_recognition_model_v1, batch_img: List[numpy.ndarray[(rows,cols,3),numpy.uint8]], batch_faces: List[_dlib_pybind11.full_object_detections], num_jitters: int = 0, padding: float = 0.25) -> _dlib_pybind11.vectorss\n    5. (self: _dlib_pybind11.face_recognition_model_v1, batch_img: List[numpy.ndarray[(rows,cols,3),numpy.uint8]], num_jitters: int = 0) -> _dlib_pybind11.vectors\n\nInvoked with: <_dlib_pybind11.face_recognition_model_v1 object at 0x114865bf0>, array([[[162, 160, 156],\n        [157, 156, 151],\n        [159, 157, 152],\n        ...,\n        [148, 144, 140],\n        [149, 145, 141],\n        [147, 144, 137]],\n\n       [[161, 159, 155],\n        [161, 160, 155],\n        [162, 159, 155],\n        ...,\n        [151, 147, 143],\n        [148, 144, 140],\n        [149, 145, 140]],\n\n       [[160, 159, 154],\n        [161, 159, 155],\n        [165, 161, 158],\n        ...,\n        [148, 144, 140],\n        [153, 149, 145],\n        [148, 145, 141]],\n\n       ...,\n\n       [[106,  68,  40],\n        [106,  68,  38],\n        [105,  67,  37],\n        ...,\n        [117, 117, 116],\n        [118, 118, 118],\n        [116, 117, 116]],\n\n       [[104,  65,  37],\n        [101,  60,  32],\n        [107,  64,  36],\n        ...,\n        [115, 114, 114],\n        [119, 119, 119],\n        [115, 116, 115]],\n\n       [[109,  64,  37],\n        [112,  63,  39],\n        [113,  58,  36],\n        ...,\n        [118, 116, 114],\n        [114, 114, 114],\n        [113, 113, 111]]], dtype=uint8), <_dlib_pybind11.full_object_detection object at 0x1143d98f0>, 1"
     ]
    }
   ],
   "source": [
    "video_capture = cv2.VideoCapture(0)\n",
    "face_locations = []\n",
    "face_encodings = []\n",
    "face_names = []\n",
    "process_this_frame = True\n",
    "while True  :\n",
    "  \n",
    "    ret, frame = video_capture.read()\n",
    "    small_frame = cv2.resize(frame, (0, 0), fx=0.25, fy=0.25)\n",
    "    rgb_small_frame = small_frame[:, :, ::-1]\n",
    "    if process_this_frame:\n",
    "        face_locations = face_recognition.face_locations(rgb_small_frame)\n",
    "        face_encodings = face_recognition.face_encodings(rgb_small_frame, face_locations)\n",
    "        face_names = []\n",
    "        for face_encoding in face_encodings:\n",
    "            matches = face_recognition.compare_faces(known_face_encodings, face_encoding)\n",
    "            name = \"Unknown\"\n",
    "            face_distances = face_recognition.face_distance(known_face_encodings, face_encoding)\n",
    "            best_match_index = np.argmin(face_distances)\n",
    "            if matches[best_match_index]:\n",
    "                name = known_face_names[best_match_index]\n",
    "            face_names.append(name)\n",
    "    process_this_frame = not process_this_frame\n",
    "    for (top_s, right, bottom, left), name in zip(face_locations, face_names):\n",
    "        top_s *= 4\n",
    "        right *= 4\n",
    "        bottom *= 4\n",
    "        left *= 4\n",
    "        cv2.rectangle(frame, (left, top_s), (right, bottom), (0, 0, 255), 2)\n",
    "        cv2.rectangle(frame, (left, bottom - 35), (right, bottom), (0, 0, 255), cv2.FILLED)\n",
    "        font = cv2.FONT_HERSHEY_DUPLEX\n",
    "        cv2.putText(frame, ref_dictt[name], (left + 6, bottom - 6), font, 1.0, (255, 255, 255), 1)\n",
    "    font = cv2.FONT_HERSHEY_DUPLEX\n",
    "    cv2.imshow('Video', frame)\n",
    "    if cv2.waitKey(1) & 0xFF == ord('q'):\n",
    "        break\n",
    "video_capture.release()\n",
    "cv2.destroyAllWindows()"
   ]
  }
 ],
 "metadata": {
  "kernelspec": {
   "display_name": "Python 3",
   "language": "python",
   "name": "python3"
  },
  "language_info": {
   "codemirror_mode": {
    "name": "ipython",
    "version": 3
   },
   "file_extension": ".py",
   "mimetype": "text/x-python",
   "name": "python",
   "nbconvert_exporter": "python",
   "pygments_lexer": "ipython3",
   "version": "3.10.2"
  },
  "orig_nbformat": 4
 },
 "nbformat": 4,
 "nbformat_minor": 2
}
